{
  "nbformat": 4,
  "nbformat_minor": 0,
  "metadata": {
    "kernelspec": {
      "display_name": "Python 3",
      "language": "python",
      "name": "python3"
    },
    "language_info": {
      "codemirror_mode": {
        "name": "ipython",
        "version": 3
      },
      "file_extension": ".py",
      "mimetype": "text/x-python",
      "name": "python",
      "nbconvert_exporter": "python",
      "pygments_lexer": "ipython3",
      "version": "3.7.3"
    },
    "colab": {
      "name": "Rede_neural_numpy.ipynb",
      "provenance": [],
      "collapsed_sections": [
        "9w4XSLyUlphY",
        "OfUFYRonlphg",
        "VS6_lKttlphm",
        "zy44-SpZlphm",
        "YTIEFmk-lpho",
        "w0xlE1f9lphp",
        "pvzYrQOxlphs",
        "qJnM93Vnlphv",
        "TizIk8CKlphw",
        "QeRk2E1xlphx",
        "yTlVu3c9lph0",
        "CoeFSenSlph5"
      ],
      "include_colab_link": true
    }
  },
  "cells": [
    {
      "cell_type": "markdown",
      "metadata": {
        "id": "view-in-github",
        "colab_type": "text"
      },
      "source": [
        "<a href=\"https://colab.research.google.com/github/ernestojr-7/Rede-Neural-com-Numpy/blob/main/Rede_neural_numpy.ipynb\" target=\"_parent\"><img src=\"https://colab.research.google.com/assets/colab-badge.svg\" alt=\"Open In Colab\"/></a>"
      ]
    },
    {
      "cell_type": "markdown",
      "metadata": {
        "id": "Aq8xsI-elphP"
      },
      "source": [
        "# A base de dados"
      ]
    },
    {
      "cell_type": "markdown",
      "metadata": {
        "id": "2jhW7eoYlphU"
      },
      "source": [
        "### Carregando o dataset"
      ]
    },
    {
      "cell_type": "code",
      "metadata": {
        "id": "ovsvbDm2lphX"
      },
      "source": [
        "import pandas as pd\n",
        "\n",
        "dados = pd.read_csv('Dataset/Bicicletas.csv')"
      ],
      "execution_count": 87,
      "outputs": []
    },
    {
      "cell_type": "markdown",
      "metadata": {
        "id": "9w4XSLyUlphY"
      },
      "source": [
        "### Conhecendo a base de dados"
      ]
    },
    {
      "cell_type": "code",
      "metadata": {
        "colab": {
          "base_uri": "https://localhost:8080/",
          "height": 0
        },
        "id": "LXllLOMclphY",
        "outputId": "78b006a9-5695-4887-b6cd-68be1de26574"
      },
      "source": [
        "dados.head()"
      ],
      "execution_count": 88,
      "outputs": [
        {
          "output_type": "execute_result",
          "data": {
            "text/html": [
              "\n",
              "  <div id=\"df-afabee6d-8cd2-4eac-b802-37996641bf41\">\n",
              "    <div class=\"colab-df-container\">\n",
              "      <div>\n",
              "<style scoped>\n",
              "    .dataframe tbody tr th:only-of-type {\n",
              "        vertical-align: middle;\n",
              "    }\n",
              "\n",
              "    .dataframe tbody tr th {\n",
              "        vertical-align: top;\n",
              "    }\n",
              "\n",
              "    .dataframe thead th {\n",
              "        text-align: right;\n",
              "    }\n",
              "</style>\n",
              "<table border=\"1\" class=\"dataframe\">\n",
              "  <thead>\n",
              "    <tr style=\"text-align: right;\">\n",
              "      <th></th>\n",
              "      <th>clima</th>\n",
              "      <th>temperatura</th>\n",
              "      <th>bicicletas_alugadas</th>\n",
              "    </tr>\n",
              "  </thead>\n",
              "  <tbody>\n",
              "    <tr>\n",
              "      <th>0</th>\n",
              "      <td>2</td>\n",
              "      <td>0.363625</td>\n",
              "      <td>985</td>\n",
              "    </tr>\n",
              "    <tr>\n",
              "      <th>1</th>\n",
              "      <td>2</td>\n",
              "      <td>0.353739</td>\n",
              "      <td>801</td>\n",
              "    </tr>\n",
              "    <tr>\n",
              "      <th>2</th>\n",
              "      <td>1</td>\n",
              "      <td>0.189405</td>\n",
              "      <td>1349</td>\n",
              "    </tr>\n",
              "    <tr>\n",
              "      <th>3</th>\n",
              "      <td>1</td>\n",
              "      <td>0.212122</td>\n",
              "      <td>1562</td>\n",
              "    </tr>\n",
              "    <tr>\n",
              "      <th>4</th>\n",
              "      <td>1</td>\n",
              "      <td>0.229270</td>\n",
              "      <td>1600</td>\n",
              "    </tr>\n",
              "  </tbody>\n",
              "</table>\n",
              "</div>\n",
              "      <button class=\"colab-df-convert\" onclick=\"convertToInteractive('df-afabee6d-8cd2-4eac-b802-37996641bf41')\"\n",
              "              title=\"Convert this dataframe to an interactive table.\"\n",
              "              style=\"display:none;\">\n",
              "        \n",
              "  <svg xmlns=\"http://www.w3.org/2000/svg\" height=\"24px\"viewBox=\"0 0 24 24\"\n",
              "       width=\"24px\">\n",
              "    <path d=\"M0 0h24v24H0V0z\" fill=\"none\"/>\n",
              "    <path d=\"M18.56 5.44l.94 2.06.94-2.06 2.06-.94-2.06-.94-.94-2.06-.94 2.06-2.06.94zm-11 1L8.5 8.5l.94-2.06 2.06-.94-2.06-.94L8.5 2.5l-.94 2.06-2.06.94zm10 10l.94 2.06.94-2.06 2.06-.94-2.06-.94-.94-2.06-.94 2.06-2.06.94z\"/><path d=\"M17.41 7.96l-1.37-1.37c-.4-.4-.92-.59-1.43-.59-.52 0-1.04.2-1.43.59L10.3 9.45l-7.72 7.72c-.78.78-.78 2.05 0 2.83L4 21.41c.39.39.9.59 1.41.59.51 0 1.02-.2 1.41-.59l7.78-7.78 2.81-2.81c.8-.78.8-2.07 0-2.86zM5.41 20L4 18.59l7.72-7.72 1.47 1.35L5.41 20z\"/>\n",
              "  </svg>\n",
              "      </button>\n",
              "      \n",
              "  <style>\n",
              "    .colab-df-container {\n",
              "      display:flex;\n",
              "      flex-wrap:wrap;\n",
              "      gap: 12px;\n",
              "    }\n",
              "\n",
              "    .colab-df-convert {\n",
              "      background-color: #E8F0FE;\n",
              "      border: none;\n",
              "      border-radius: 50%;\n",
              "      cursor: pointer;\n",
              "      display: none;\n",
              "      fill: #1967D2;\n",
              "      height: 32px;\n",
              "      padding: 0 0 0 0;\n",
              "      width: 32px;\n",
              "    }\n",
              "\n",
              "    .colab-df-convert:hover {\n",
              "      background-color: #E2EBFA;\n",
              "      box-shadow: 0px 1px 2px rgba(60, 64, 67, 0.3), 0px 1px 3px 1px rgba(60, 64, 67, 0.15);\n",
              "      fill: #174EA6;\n",
              "    }\n",
              "\n",
              "    [theme=dark] .colab-df-convert {\n",
              "      background-color: #3B4455;\n",
              "      fill: #D2E3FC;\n",
              "    }\n",
              "\n",
              "    [theme=dark] .colab-df-convert:hover {\n",
              "      background-color: #434B5C;\n",
              "      box-shadow: 0px 1px 3px 1px rgba(0, 0, 0, 0.15);\n",
              "      filter: drop-shadow(0px 1px 2px rgba(0, 0, 0, 0.3));\n",
              "      fill: #FFFFFF;\n",
              "    }\n",
              "  </style>\n",
              "\n",
              "      <script>\n",
              "        const buttonEl =\n",
              "          document.querySelector('#df-afabee6d-8cd2-4eac-b802-37996641bf41 button.colab-df-convert');\n",
              "        buttonEl.style.display =\n",
              "          google.colab.kernel.accessAllowed ? 'block' : 'none';\n",
              "\n",
              "        async function convertToInteractive(key) {\n",
              "          const element = document.querySelector('#df-afabee6d-8cd2-4eac-b802-37996641bf41');\n",
              "          const dataTable =\n",
              "            await google.colab.kernel.invokeFunction('convertToInteractive',\n",
              "                                                     [key], {});\n",
              "          if (!dataTable) return;\n",
              "\n",
              "          const docLinkHtml = 'Like what you see? Visit the ' +\n",
              "            '<a target=\"_blank\" href=https://colab.research.google.com/notebooks/data_table.ipynb>data table notebook</a>'\n",
              "            + ' to learn more about interactive tables.';\n",
              "          element.innerHTML = '';\n",
              "          dataTable['output_type'] = 'display_data';\n",
              "          await google.colab.output.renderOutput(dataTable, element);\n",
              "          const docLink = document.createElement('div');\n",
              "          docLink.innerHTML = docLinkHtml;\n",
              "          element.appendChild(docLink);\n",
              "        }\n",
              "      </script>\n",
              "    </div>\n",
              "  </div>\n",
              "  "
            ],
            "text/plain": [
              "   clima  temperatura  bicicletas_alugadas\n",
              "0      2     0.363625                  985\n",
              "1      2     0.353739                  801\n",
              "2      1     0.189405                 1349\n",
              "3      1     0.212122                 1562\n",
              "4      1     0.229270                 1600"
            ]
          },
          "metadata": {},
          "execution_count": 88
        }
      ]
    },
    {
      "cell_type": "code",
      "metadata": {
        "id": "4sFihIvUlphc"
      },
      "source": [
        "import matplotlib.pyplot as plt"
      ],
      "execution_count": 89,
      "outputs": []
    },
    {
      "cell_type": "code",
      "metadata": {
        "colab": {
          "base_uri": "https://localhost:8080/",
          "height": 0
        },
        "id": "qvr6upOLlphd",
        "outputId": "907c8b82-4f62-43b7-8774-eb2200548c15"
      },
      "source": [
        "plt.rcParams.update({'font.size': 14})\n",
        "plt.scatter(dados['temperatura'],dados['bicicletas_alugadas'])\n",
        "plt.ylabel('bicicletas_alugadas')\n",
        "plt.xlabel('temperatura')"
      ],
      "execution_count": 90,
      "outputs": [
        {
          "output_type": "execute_result",
          "data": {
            "text/plain": [
              "Text(0.5, 0, 'temperatura')"
            ]
          },
          "metadata": {},
          "execution_count": 90
        },
        {
          "output_type": "display_data",
          "data": {
            "image/png": "[encoded data removed]",
            "text/plain": [
              "<Figure size 432x288 with 1 Axes>"
            ]
          },
          "metadata": {
            "needs_background": "light"
          }
        }
      ]
    },
    {
      "cell_type": "code",
      "metadata": {
        "colab": {
          "base_uri": "https://localhost:8080/",
          "height": 0
        },
        "id": "M631jj_Hlphf",
        "outputId": "7d2797b0-298d-4497-a53e-56559b222a35"
      },
      "source": [
        "plt.scatter(dados['clima'],dados['bicicletas_alugadas'])\n",
        "plt.ylabel('bicicletas_alugadas')\n",
        "plt.xlabel('clima')\n",
        "plt.rcParams.update({'font.size': 22})\n",
        "indice=[1,2,3]\n",
        "plt.xticks(indice, fontsize=14);"
      ],
      "execution_count": 91,
      "outputs": [
        {
          "output_type": "display_data",
          "data": {
            "image/png": "[encoded data removed]",
            "text/plain": [
              "<Figure size 432x288 with 1 Axes>"
            ]
          },
          "metadata": {
            "needs_background": "light"
          }
        }
      ]
    },
    {
      "cell_type": "markdown",
      "metadata": {
        "id": "OfUFYRonlphg"
      },
      "source": [
        "### Normalizando a base de dados"
      ]
    },
    {
      "cell_type": "code",
      "metadata": {
        "id": "wB1RmpoLlphh"
      },
      "source": [
        "import numpy as np"
      ],
      "execution_count": 92,
      "outputs": []
    },
    {
      "cell_type": "code",
      "metadata": {
        "id": "TOoqNBAzlphi"
      },
      "source": [
        "y = dados['bicicletas_alugadas'].values"
      ],
      "execution_count": 93,
      "outputs": []
    },
    {
      "cell_type": "code",
      "metadata": {
        "colab": {
          "base_uri": "https://localhost:8080/"
        },
        "id": "N_o6PtgLlphj",
        "outputId": "c5ebae26-efe7-4e01-f08d-64ce0dd9b001"
      },
      "source": [
        "X = dados[['clima','temperatura']].values\n",
        "print(X)"
      ],
      "execution_count": 94,
      "outputs": [
        {
          "output_type": "stream",
          "name": "stdout",
          "text": [
            "[[2.       0.363625]\n",
            " [2.       0.353739]\n",
            " [1.       0.189405]\n",
            " ...\n",
            " [2.       0.2424  ]\n",
            " [1.       0.2317  ]\n",
            " [2.       0.223487]]\n"
          ]
        }
      ]
    },
    {
      "cell_type": "code",
      "source": [
        "xmax = np.amax(X, axis=0)\n",
        "xmax"
      ],
      "metadata": {
        "colab": {
          "base_uri": "https://localhost:8080/"
        },
        "id": "0P634C6I9llP",
        "outputId": "540efa86-5122-43ed-a9e3-7698d4075d46"
      },
      "execution_count": 95,
      "outputs": [
        {
          "output_type": "execute_result",
          "data": {
            "text/plain": [
              "array([3.      , 0.840896])"
            ]
          },
          "metadata": {},
          "execution_count": 95
        }
      ]
    },
    {
      "cell_type": "code",
      "metadata": {
        "colab": {
          "base_uri": "https://localhost:8080/"
        },
        "id": "nmtj7qbwlphk",
        "outputId": "24799f86-03ad-4412-fd67-ef424151da35"
      },
      "source": [
        "xmax = np.amax(X,axis=0)\n",
        "X = X/xmax\n",
        "print(X)"
      ],
      "execution_count": 96,
      "outputs": [
        {
          "output_type": "stream",
          "name": "stdout",
          "text": [
            "[[0.66666667 0.43242565]\n",
            " [0.66666667 0.42066914]\n",
            " [0.33333333 0.22524188]\n",
            " ...\n",
            " [0.66666667 0.28826395]\n",
            " [0.33333333 0.27553942]\n",
            " [0.66666667 0.26577246]]\n"
          ]
        }
      ]
    },
    {
      "cell_type": "code",
      "metadata": {
        "colab": {
          "base_uri": "https://localhost:8080/"
        },
        "id": "ME5flfq1lphl",
        "outputId": "3a705cea-80be-4d0b-a2fa-02947414ef66"
      },
      "source": [
        "ymax=np.amax(y)\n",
        "y = y/ymax\n",
        "print(y)"
      ],
      "execution_count": 97,
      "outputs": [
        {
          "output_type": "stream",
          "name": "stdout",
          "text": [
            "[0.11303649 0.09192105 0.15480835 0.17925178 0.18361258 0.18430112\n",
            " 0.17328437 0.11005279 0.09433096 0.15159513 0.14493918 0.13334863\n",
            " 0.16134955 0.16307092 0.14321781 0.13816846 0.11475786 0.07837962\n",
            " 0.18935047 0.2211384  0.17707138 0.11257746 0.11315125 0.16249713\n",
            " 0.22779435 0.05806748 0.04946064 0.13392242 0.12600413 0.12577462\n",
            " 0.17225155 0.15607069 0.1751205  0.17787468 0.19600643 0.11533165\n",
            " 0.18625201 0.19646546 0.17557953 0.18418637 0.17649759 0.20036723\n",
            " 0.16892357 0.18235024 0.21953179 0.20828552 0.24271288 0.28402571\n",
            " 0.33589626 0.1876291  0.20794124 0.12703695 0.1663989  0.21999082\n",
            " 0.20736745 0.16766123 0.22595823 0.27564838 0.16593987 0.2124168\n",
            " 0.24489328 0.193367   0.22308928 0.23835208 0.06942851 0.21482672\n",
            " 0.24477852 0.21700711 0.07149415 0.22687629 0.24466376 0.27736975\n",
            " 0.23479458 0.23594216 0.25154923 0.31489557 0.37170071 0.35770025\n",
            " 0.28356667 0.23835208 0.3101905  0.24340142 0.21402341 0.25361487\n",
            " 0.28643562 0.19428506 0.23272894 0.27828781 0.17626807 0.193367\n",
            " 0.25556576 0.2584347  0.37284829 0.35747074 0.20599036 0.32224007\n",
            " 0.36045444 0.16880881 0.28173055 0.33222401 0.38420932 0.23341749\n",
            " 0.2481065  0.37491393 0.35873307 0.0912325  0.42965343 0.39350471\n",
            " 0.36768419 0.452605   0.48072068 0.19313748 0.46316273 0.4809502\n",
            " 0.46740877 0.50493459 0.44434244 0.4656874  0.52731237 0.60959376\n",
            " 0.38455359 0.50504935 0.51078724 0.30215745 0.5087216  0.52880422\n",
            " 0.54096856 0.49724581 0.50057379 0.55118201 0.47991737 0.55818224\n",
            " 0.47108102 0.39120955 0.52249254 0.45421161 0.47314666 0.44239155\n",
            " 0.52501721 0.5642644  0.66616938 0.53477163 0.4904751  0.51549231\n",
            " 0.57126463 0.53672252 0.53695203 0.5460179  0.54946064 0.47027771\n",
            " 0.4569658  0.45604774 0.57011705 0.60959376 0.61303649 0.56300207\n",
            " 0.52191875 0.55462474 0.50504935 0.44927703 0.52627955 0.56988754\n",
            " 0.51182006 0.57608446 0.5612807  0.59444572 0.43229286 0.55588708\n",
            " 0.58744549 0.54441129 0.46017902 0.55485426 0.51721368 0.54969015\n",
            " 0.57275648 0.59697039 0.60879045 0.54028001 0.53339454 0.59960982\n",
            " 0.6328896  0.61533165 0.58744549 0.5335093  0.69348175 0.53534542\n",
            " 0.53121414 0.5269681  0.46362176 0.61234795 0.56013312 0.46890062\n",
            " 0.48863897 0.49827863 0.58342896 0.63552903 0.67971081 0.60844618\n",
            " 0.51159054 0.52111545 0.49713105 0.43424375 0.38868487 0.37697957\n",
            " 0.41381685 0.44067019 0.52673858 0.5343126  0.50378701 0.44135873\n",
            " 0.51354143 0.49368832 0.48955703 0.55600184 0.41014459 0.52513197\n",
            " 0.55841175 0.49277025 0.4343585  0.49644251 0.52811568 0.54854258\n",
            " 0.54991967 0.56288731 0.47624512 0.43837503 0.4978196  0.54223089\n",
            " 0.5386734  0.43665366 0.4765894  0.59570806 0.4444572  0.5460179\n",
            " 0.67649759 0.58870783 0.40647234 0.53488639 0.12795501 0.49736057\n",
            " 0.53178793 0.59719991 0.58044526 0.58698646 0.54246041 0.51457425\n",
            " 0.56690383 0.38455359 0.3109938  0.22905669 0.21138398 0.40670186\n",
            " 0.61338077 0.57906817 0.5408538  0.54659169 0.54911636 0.41989901\n",
            " 0.54624742 0.51767271 0.4904751  0.52088593 0.41783337 0.49942621\n",
            " 0.55026394 0.27484508 0.62233188 0.57493688 0.5313289  0.47280239\n",
            " 0.44835896 0.55531329 0.59697039 0.27874684 0.33486344 0.40968556\n",
            " 0.51136103 0.55382144 0.54682121 0.57206794 0.62072527 0.63243057\n",
            " 0.58721597 0.52364012 0.27725499 0.33428965 0.41817765 0.59869176\n",
            " 0.57849438 0.52444342 0.54487032 0.27817305 0.48140923 0.49391783\n",
            " 0.49437686 0.50275419 0.48049116 0.53787009 0.44686711 0.30514115\n",
            " 0.4299977  0.07195318 0.38225843 0.42104659 0.46683498 0.48037641\n",
            " 0.45604774 0.46431031 0.45053936 0.41875143 0.46304797 0.48255681\n",
            " 0.47154005 0.33658481 0.38650448 0.46672022 0.42655497 0.51480376\n",
            " 0.48140923 0.20851503 0.35035575 0.38925866 0.42035804 0.40394767\n",
            " 0.31730549 0.18441588 0.29446867 0.171563   0.32040395 0.35207712\n",
            " 0.35242139 0.44376865 0.33440441 0.41462015 0.42770255 0.45214597\n",
            " 0.41473491 0.39993115 0.43734221 0.29768189 0.08090429 0.38122561\n",
            " 0.41542346 0.36607758 0.31478081 0.37984852 0.40429194 0.4291944\n",
            " 0.42563691 0.41048887 0.31432178 0.27897636 0.390521   0.43034198\n",
            " 0.30525591 0.35207712 0.25350011 0.1160202  0.08652743 0.1511361\n",
            " 0.13334863 0.2641726  0.2780583  0.34415882 0.28517328 0.26325453\n",
            " 0.22389259 0.25659858 0.27174661 0.37548772 0.47027771 0.51882029\n",
            " 0.39304567 0.27266468 0.41289878 0.24982786 0.47016296 0.36883176\n",
            " 0.28609135 0.26520542 0.26371356 0.33681432 0.38742254 0.37778288\n",
            " 0.36297911 0.14929998 0.22687629 0.27909112 0.49793436 0.49001607\n",
            " 0.46763828 0.39660317 0.46167087 0.37215974 0.41588249 0.51744319\n",
            " 0.52547625 0.43160431 0.47635988 0.32499426 0.33819142 0.43424375\n",
            " 0.50206564 0.32155153 0.43952261 0.43963737 0.2489098  0.17546477\n",
            " 0.3927014  0.45008033 0.47842552 0.34484737 0.47670415 0.49552444\n",
            " 0.30858389 0.35907735 0.43344044 0.54773927 0.58090429 0.40016066\n",
            " 0.31351848 0.38891439 0.49598347 0.50068855 0.21046592 0.57264173\n",
            " 0.36653661 0.46660546 0.39281616 0.38248795 0.4539821  0.56414964\n",
            " 0.61762681 0.52432867 0.47257287 0.56357585 0.60798715 0.67098921\n",
            " 0.72435162 0.71058067 0.50240992 0.8992426  0.67615332 0.70610512\n",
            " 0.69921965 0.71494147 0.78850126 0.95960523 0.38696351 0.57333027\n",
            " 0.63782419 0.58549461 0.65389029 0.70380996 0.62646316 0.71551526\n",
            " 0.69325224 0.68120266 0.77714023 0.73858159 0.74099151 0.74133578\n",
            " 0.78689465 0.59318338 0.64092265 0.67913702 0.55795272 0.62072527\n",
            " 0.73422079 0.85609364 0.81845306 0.73100757 0.76784485 0.50114758\n",
            " 0.75338536 0.83658481 0.76015607 0.11785632 0.36883176 0.64643103\n",
            " 0.71103971 0.57677301 0.71528575 0.48427817 0.72343356 0.6394308\n",
            " 0.65871012 0.70794124 0.73686022 0.72251549 0.78987836 0.72974524\n",
            " 0.71987606 0.65733303 0.54131283 0.75418866 0.80674776 0.85253615\n",
            " 0.70208859 0.3262566  0.58698646 0.85196236 0.84737204 0.8766353\n",
            " 0.9518017  0.81810879 0.50022952 0.69692449 0.60362635 0.77691072\n",
            " 0.77277944 0.75005738 0.75636906 0.69348175 0.6590544  0.78666514\n",
            " 0.84209318 0.47360569 0.93183383 0.87686482 0.80307551 0.80341978\n",
            " 0.80961671 0.85999541 0.88776681 0.86045444 0.75717237 0.76474639\n",
            " 0.57057608 0.85161809 0.84496213 0.879619   0.88386504 0.80078035\n",
            " 0.58515033 0.7832224  0.71276107 0.67764517 0.66823502 0.85586413\n",
            " 0.79079642 0.77794354 0.854028   0.84174891 0.78941933 0.62692219\n",
            " 0.65262796 0.63472573 0.7145972  0.76428735 0.84955244 0.71620381\n",
            " 0.71230204 0.55542805 0.53614873 0.75384439 0.72182695 0.8336011\n",
            " 0.85448703 0.8605692  0.79974753 0.69210466 0.78379619 0.77874684\n",
            " 0.65561166 0.75636906 0.67362864 0.5117053  0.85035575 0.79940326\n",
            " 0.87124168 0.937916   0.78735368 0.79228827 0.7671563  0.75705761\n",
            " 0.8153546  0.82809272 0.86986459 0.83325683 0.82338765 0.78310764\n",
            " 0.62703695 0.80479688 0.83463392 0.86458572 0.83612577 0.66398898\n",
            " 0.72285977 0.75097544 0.78987836 0.77851733 0.843126   0.87273353\n",
            " 0.82028919 0.90257058 0.52203351 0.74936883 0.80399357 0.84633922\n",
            " 0.89109479 0.8700941  0.69462933 0.60305256 0.79378012 0.80789534\n",
            " 0.88329126 0.88512738 0.84347028 0.70461327 0.66674317 0.69244893\n",
            " 0.78769796 0.81615791 0.71184301 0.86114299 0.68579298 0.94411292\n",
            " 0.8635529  0.89132431 0.90314437 0.89557035 0.91909571 1.\n",
            " 0.84151939 0.78827175 0.46740877 0.87112692 0.88593069 0.93722745\n",
            " 0.96339224 0.90739041 0.85333945 0.86504476 0.88742254 0.84840487\n",
            " 0.85092954 0.9817535  0.7905669  0.77782878 0.53236172 0.86894652\n",
            " 0.8409456  0.93596511 0.91404636 0.40280009 0.62864356 0.73353225\n",
            " 0.88260271 0.86871701 0.83566674 0.81581363 0.76187744 0.67420243\n",
            " 0.86458572 0.8562084  0.86171678 0.62244664 0.92839109 0.78310764\n",
            " 0.80996098 0.85678219 0.88283222 0.8445031  0.85425752 0.90107872\n",
            " 0.5117053  0.00252467 0.12577462 0.63874225 0.68694056 0.67098921\n",
            " 0.58962589 0.5860684  0.60351159 0.6525132  0.57780583 0.60993803\n",
            " 0.6876291  0.75005738 0.78632086 0.71941703 0.46981868 0.63059445\n",
            " 0.62485655 0.65389029 0.645972   0.53580445 0.63105348 0.64654579\n",
            " 0.59054395 0.27828781 0.44870324 0.26130365 0.27817305 0.58377324\n",
            " 0.45432637 0.60362635 0.61085609 0.65044756 0.59570806 0.5335093\n",
            " 0.7154005  0.75809043 0.65744779 0.6168235  0.57470737 0.64057838\n",
            " 0.37043838 0.59329814 0.63128299 0.61039706 0.63484049 0.64390636\n",
            " 0.57918292 0.43447326 0.52616479 0.63770943 0.60442965 0.47372045\n",
            " 0.41576773 0.2007115  0.2050723  0.10557723 0.11624971 0.05060822\n",
            " 0.24259812 0.35517558 0.15389029 0.20610512 0.3131742 ]\n"
          ]
        }
      ]
    },
    {
      "cell_type": "markdown",
      "metadata": {
        "id": "VS6_lKttlphm"
      },
      "source": [
        "### Funções de ativação"
      ]
    },
    {
      "cell_type": "code",
      "metadata": {
        "id": "yBcCOnzxlphm"
      },
      "source": [
        "def sigmoid(s):\n",
        "    return 1/(1+np.exp(-s))\n",
        "\n",
        "def relu(s):\n",
        "    return np.maximum(0, s)"
      ],
      "execution_count": 98,
      "outputs": []
    },
    {
      "cell_type": "markdown",
      "metadata": {
        "id": "zy44-SpZlphm"
      },
      "source": [
        "### Criando a estrutura da rede"
      ]
    },
    {
      "cell_type": "code",
      "metadata": {
        "id": "Ru1thmHnlphn"
      },
      "source": [
        "arquitetura = [\n",
        "    {\"dim_entrada\": 2, \"dim_saida\": 4, \"ativacao\": \"relu\"},\n",
        "    {\"dim_entrada\": 4, \"dim_saida\": 4, \"ativacao\": \"relu\"},\n",
        "    {\"dim_entrada\": 4, \"dim_saida\": 2, \"ativacao\": \"relu\"},\n",
        "    {\"dim_entrada\": 2, \"dim_saida\": 1, \"ativacao\": \"sigmoid\"}\n",
        "]"
      ],
      "execution_count": 188,
      "outputs": []
    },
    {
      "cell_type": "markdown",
      "metadata": {
        "id": "YTIEFmk-lpho"
      },
      "source": [
        "### Pesos e viés"
      ]
    },
    {
      "cell_type": "code",
      "metadata": {
        "id": "MU2aix-Llpho"
      },
      "source": [
        "# inicializa os pesos de cada camada\n",
        "def inicia_camadas(arquitetura, seed = 22):\n",
        "    # inicia os valores aleatórios\n",
        "    np.random.seed(seed)\n",
        "    # numero de camadas da rede neural\n",
        "    numero_de_camadas = len(arquitetura)\n",
        "    # inicia armazenamento de parametros\n",
        "    valores_parametros = {}\n",
        "    \n",
        "    # itera nas camadas da rede\n",
        "    for indice, camada in enumerate(arquitetura):\n",
        "        \n",
        "        indice_camada = indice + 1\n",
        "        \n",
        "        # extrai o numero de nodos nas camadas\n",
        "        tamanho_camada_entrada = camada[\"dim_entrada\"]\n",
        "        tamanho_camada_saida   = camada[\"dim_saida\"]\n",
        "        \n",
        "        # inicia os valores na matriz de pesos P\n",
        "        # e o vetor de viés ou bias b\n",
        "        valores_parametros['P' + str(indice_camada)] = np.random.randn(\n",
        "            tamanho_camada_saida, tamanho_camada_entrada)  * 0.1\n",
        "        valores_parametros['b' + str(indice_camada)] = np.random.randn(\n",
        "            tamanho_camada_saida, 1) * 0.1\n",
        "        \n",
        "    return valores_parametros"
      ],
      "execution_count": 157,
      "outputs": []
    },
    {
      "cell_type": "markdown",
      "metadata": {
        "id": "yvAFI0yUcC6d"
      },
      "source": [
        "#### <font color='00FF7F' style='font-size: 24px;'>Entendendo melhor estrutura da rede</font><hr style='border: 2px solid black;'>\n"
      ]
    },
    {
      "cell_type": "code",
      "metadata": {
        "colab": {
          "base_uri": "https://localhost:8080/"
        },
        "id": "rTcyda9VcXR6",
        "outputId": "812eb00b-278a-4b78-8b68-48d545f8b73a"
      },
      "source": [
        "arquitetura[0]"
      ],
      "execution_count": 158,
      "outputs": [
        {
          "output_type": "execute_result",
          "data": {
            "text/plain": [
              "{'ativacao': 'relu', 'dim_entrada': 2, 'dim_saida': 4}"
            ]
          },
          "metadata": {},
          "execution_count": 158
        }
      ]
    },
    {
      "cell_type": "code",
      "metadata": {
        "colab": {
          "base_uri": "https://localhost:8080/"
        },
        "id": "89Go3tyYWUxL",
        "outputId": "80b08392-906b-444c-e6f6-7d1ec85ac647"
      },
      "source": [
        "# tamanho_camada_saida e o numero de linhas da matriz\n",
        "# tamanho_camada_entrada e o numero de colunas\n",
        "# inicia armazenamento de parametros\n",
        "valores_parametros = {}\n",
        "for indice, camada in enumerate(arquitetura):\n",
        "  indice_camada = indice + 1\n",
        "        \n",
        "  # extrai o numero de nodos nas camadas\n",
        "  tamanho_camada_entrada = camada[\"dim_entrada\"]\n",
        "  tamanho_camada_saida = camada[\"dim_saida\"]\n",
        "  print(f'tamanho entrada: {tamanho_camada_entrada}')\n",
        "  print(f'tam saida:       {tamanho_camada_saida}')\n",
        "  print(f'camada:          {indice_camada}')\n",
        "  print('_'*20)\n",
        "        \n",
        "  # inicia os valores na matriz de pesos P\n",
        "  # e o vetor de viés ou bias b\n",
        "  valores_parametros['P' + str(indice_camada)] = np.random.randn(\n",
        "            tamanho_camada_saida, tamanho_camada_entrada)  * 0.1\n",
        "  valores_parametros['b' + str(indice_camada)] = np.random.randn(\n",
        "            tamanho_camada_saida, 1) * 0.1\n",
        "print(valores_parametros)\n",
        "# print(valores_parametros['b1'])"
      ],
      "execution_count": 159,
      "outputs": [
        {
          "output_type": "stream",
          "name": "stdout",
          "text": [
            "tamanho entrada: 2\n",
            "tam saida:       4\n",
            "camada:          1\n",
            "____________________\n",
            "tamanho entrada: 4\n",
            "tam saida:       1\n",
            "camada:          2\n",
            "____________________\n",
            "{'P1': array([[ 0.05916665, -0.01832566],\n",
            "       [ 0.10198547, -0.14824655],\n",
            "       [ 0.08463119,  0.04979401],\n",
            "       [ 0.01265042, -0.14188106]]), 'b1': array([[-0.02517741],\n",
            "       [-0.15466746],\n",
            "       [-0.20826519],\n",
            "       [ 0.32797454]]), 'P2': array([[ 0.09708613,  0.17925929, -0.04290133,  0.0696198 ]]), 'b2': array([[0.06974163]])}\n"
          ]
        }
      ]
    },
    {
      "cell_type": "markdown",
      "metadata": {
        "id": "w0xlE1f9lphp"
      },
      "source": [
        "### Propagação da rede"
      ]
    },
    {
      "cell_type": "code",
      "metadata": {
        "id": "VE-xYUkilphq"
      },
      "source": [
        "def propaga_uma_camada(X_neuronio, pesos, bias, ativacao=\"relu\"):\n",
        "    # cálculo da entrada para a função de ativação\n",
        "    # X_neuronio equivale o 'X' de cada neuronio\n",
        "    Saida_atual = np.dot(pesos, X_neuronio) + bias\n",
        "    # Saida_atual += bias.T\n",
        "    \n",
        "    # selecao da funcao de ativacao\n",
        "    if ativacao is \"relu\":\n",
        "        func_ativacao = relu\n",
        "    elif ativacao is \"sigmoid\":\n",
        "        func_ativacao = sigmoid\n",
        "    else:\n",
        "        raise Exception('Funcao nao implementada ainda!')\n",
        "        \n",
        "    # retorna a ativação calculada Ativado_atual e a matriz intermediária Saida\n",
        "    return func_ativacao(Saida_atual), Saida_atual"
      ],
      "execution_count": 160,
      "outputs": []
    },
    {
      "cell_type": "code",
      "metadata": {
        "id": "Jgp8rqIVlphr"
      },
      "source": [
        "def propaga_total(X, valores_parametros, arquitetura):\n",
        "    # memoria temporaria para a retropropagacao\n",
        "    memoria = {}\n",
        "    # O vetor X é a ativação para a camada 0 \n",
        "    Ativado_atual = X\n",
        "    \n",
        "    # iterações para as camadas\n",
        "    for indice, camada in enumerate(arquitetura):\n",
        "        # a numeração das camadas começa de 1\n",
        "        indice_camada = indice + 1\n",
        "        # utiliza a ativação da iteração anterior\n",
        "        Ativado_anterior = Ativado_atual\n",
        "        \n",
        "        # extrai a função de ativação para a camada atual\n",
        "        func_ativacao_atual = camada[\"ativacao\"]\n",
        "        # extrai os pesos da camada atual\n",
        "        Pesos_atual = valores_parametros[\"P\" + str(indice_camada)]\n",
        "        # extrai o bias para a camada atual\n",
        "        \n",
        "        b_atual = valores_parametros[\"b\" + str(indice_camada)]\n",
        "        # cálculo da ativação para a camada atual\n",
        "        Ativado_atual, Saida_atual = propaga_uma_camada(Ativado_anterior, Pesos_atual, b_atual, func_ativacao_atual)\n",
        "        \n",
        "        # salva os valores calculados na memória\n",
        "        memoria[\"A\" + str(indice)] = Ativado_anterior\n",
        "        memoria[\"Z\" + str(indice_camada)] = Saida_atual\n",
        "       \n",
        "    # retorna o vetor predito e um dicionário contendo os valores intermediários\n",
        "    return Ativado_atual, memoria"
      ],
      "execution_count": 161,
      "outputs": []
    },
    {
      "cell_type": "markdown",
      "metadata": {
        "id": "pvzYrQOxlphs"
      },
      "source": [
        "### Testando a rede"
      ]
    },
    {
      "cell_type": "code",
      "source": [
        "X"
      ],
      "metadata": {
        "colab": {
          "base_uri": "https://localhost:8080/"
        },
        "id": "ZsevcMvyo1wF",
        "outputId": "b06e96f0-d02b-4cfe-c10c-ba1d0e4f0941"
      },
      "execution_count": 170,
      "outputs": [
        {
          "output_type": "execute_result",
          "data": {
            "text/plain": [
              "array([[0.66666667, 0.43242565],\n",
              "       [0.66666667, 0.42066914],\n",
              "       [0.33333333, 0.22524188],\n",
              "       ...,\n",
              "       [0.66666667, 0.28826395],\n",
              "       [0.33333333, 0.27553942],\n",
              "       [0.66666667, 0.26577246]])"
            ]
          },
          "metadata": {},
          "execution_count": 170
        }
      ]
    },
    {
      "cell_type": "code",
      "source": [
        "np.transpose(X)"
      ],
      "metadata": {
        "colab": {
          "base_uri": "https://localhost:8080/"
        },
        "id": "pqjKzr8uo50i",
        "outputId": "56fc96eb-fb91-4478-b259-814cb9e11f8a"
      },
      "execution_count": 171,
      "outputs": [
        {
          "output_type": "execute_result",
          "data": {
            "text/plain": [
              "array([[0.66666667, 0.66666667, 0.33333333, ..., 0.66666667, 0.33333333,\n",
              "        0.66666667],\n",
              "       [0.43242565, 0.42066914, 0.22524188, ..., 0.28826395, 0.27553942,\n",
              "        0.26577246]])"
            ]
          },
          "metadata": {},
          "execution_count": 171
        }
      ]
    },
    {
      "cell_type": "code",
      "metadata": {
        "id": "XgIF08Q6lphs"
      },
      "source": [
        "valores_parametros = inicia_camadas(arquitetura, seed = 22)\n",
        "y_estimado, memoria = propaga_total(np.transpose(X), valores_parametros, arquitetura)"
      ],
      "execution_count": 172,
      "outputs": []
    },
    {
      "cell_type": "code",
      "metadata": {
        "colab": {
          "base_uri": "https://localhost:8080/"
        },
        "id": "p7aLssWRlpht",
        "outputId": "7c163e57-23ac-4f26-b107-58f311c41f98"
      },
      "source": [
        "y_estimado[0,0]*ymax"
      ],
      "execution_count": 173,
      "outputs": [
        {
          "output_type": "execute_result",
          "data": {
            "text/plain": [
              "4520.741160382629"
            ]
          },
          "metadata": {},
          "execution_count": 173
        }
      ]
    },
    {
      "cell_type": "code",
      "metadata": {
        "colab": {
          "base_uri": "https://localhost:8080/"
        },
        "id": "BU5zawDGlpht",
        "outputId": "e0898ab9-ca32-43d0-9cd6-8cbc78efbe1c"
      },
      "source": [
        "y[0]*ymax"
      ],
      "execution_count": 174,
      "outputs": [
        {
          "output_type": "execute_result",
          "data": {
            "text/plain": [
              "985.0000000000001"
            ]
          },
          "metadata": {},
          "execution_count": 174
        }
      ]
    },
    {
      "cell_type": "markdown",
      "metadata": {
        "id": "qJnM93Vnlphv"
      },
      "source": [
        "### Atualização dos pesos"
      ]
    },
    {
      "cell_type": "code",
      "metadata": {
        "id": "c8QwI4Xelphv"
      },
      "source": [
        "def atualiza(valores_parametros, gradidentes, arquitetura, taxa_aprendizagem):\n",
        "\n",
        "    # iterações pelas camadas\n",
        "    for indice_camada, camada in enumerate(arquitetura, 1):\n",
        "        valores_parametros[\"P\" + str(indice_camada)] -= taxa_aprendizagem * gradidentes[\"dP\" + str(indice_camada)]        \n",
        "        valores_parametros[\"b\" + str(indice_camada)] -= taxa_aprendizagem * gradidentes[\"db\" + str(indice_camada)]\n",
        "\n",
        "    return valores_parametros;"
      ],
      "execution_count": 175,
      "outputs": []
    },
    {
      "cell_type": "markdown",
      "metadata": {
        "id": "TizIk8CKlphw"
      },
      "source": [
        "### Função de custo"
      ]
    },
    {
      "cell_type": "code",
      "metadata": {
        "id": "jx79UX6ulphw"
      },
      "source": [
        "def valor_de_custo(Y_predito, Y):\n",
        "    # numero de exemplos\n",
        "    m = Y_predito.shape[1]\n",
        "    \n",
        "    custo = -1 / m * (np.dot(Y, np.log(Y_predito).T) + np.dot(1 - Y, np.log(1 - Y_predito).T))\n",
        "    return np.squeeze(custo)"
      ],
      "execution_count": 176,
      "outputs": []
    },
    {
      "cell_type": "markdown",
      "metadata": {
        "id": "QeRk2E1xlphx"
      },
      "source": [
        "### Retropropagação"
      ]
    },
    {
      "cell_type": "code",
      "metadata": {
        "id": "9aVlXsC_lphx"
      },
      "source": [
        "def retropropagacao_total(Y_predito, Y, memoria, valores_parametros, arquitetura):\n",
        "   \n",
        "    gradientes = {}\n",
        "    \n",
        "    # para garantir que os dois vetores tenham a mesma dimensão\n",
        "    Y = Y.reshape(Y_predito.shape)\n",
        "    \n",
        "    # inicia o algoritmo de gradiente descendente\n",
        "    dAtivado_anterior = - (np.divide(Y, Y_predito) - np.divide(1 - Y, 1 - Y_predito));\n",
        "    \n",
        "    for indice_camada_anterior, camada in reversed(list(enumerate(arquitetura))):\n",
        "        \n",
        "        indice_camada_atual = indice_camada_anterior + 1\n",
        "        # Função de ativação para a camada atual\n",
        "        \n",
        "        funcao_ativao_atual = camada[\"ativacao\"]\n",
        "        \n",
        "        dAtivado_atual = dAtivado_anterior\n",
        "        \n",
        "        Ativado_anterior = memoria[\"A\" + str(indice_camada_anterior)]\n",
        "        Saida_atual = memoria[\"Z\" + str(indice_camada_atual)]\n",
        "        \n",
        "        Pesos_atual = valores_parametros[\"P\" + str(indice_camada_atual)]\n",
        "        b_atual = valores_parametros[\"b\" + str(indice_camada_atual)]\n",
        "        \n",
        "        dAtivado_anterior, dPesos_atual, db_atual = retropropagacao_uma_camada(dAtivado_atual,\n",
        "                                                                               Pesos_atual, \n",
        "                                                                               b_atual, \n",
        "                                                                               Saida_atual, \n",
        "                                                                               Ativado_anterior, \n",
        "                                                                               funcao_ativao_atual)\n",
        "        \n",
        "        gradientes[\"dP\" + str(indice_camada_atual)] = dPesos_atual\n",
        "        gradientes[\"db\" + str(indice_camada_atual)] = db_atual\n",
        "    \n",
        "    return gradientes"
      ],
      "execution_count": 177,
      "outputs": []
    },
    {
      "cell_type": "code",
      "metadata": {
        "id": "2miPKourlphz"
      },
      "source": [
        "def sigmoid_retro(dAtivado, Saida):\n",
        "    sig = sigmoid(Saida)\n",
        "    return dAtivado * sig * (1 - sig)\n",
        "\n",
        "def relu_retro(dAtivado, Saida):\n",
        "    dSaida = np.array(dAtivado, copy = True)\n",
        "    dSaida[Saida <= 0] = 0;\n",
        "    return dSaida;"
      ],
      "execution_count": 178,
      "outputs": []
    },
    {
      "cell_type": "code",
      "metadata": {
        "id": "QxkmkYkWlphz"
      },
      "source": [
        "def retropropagacao_uma_camada(dAtivado_atual, Pesos_atual, b_atual, Saida_atual, Ativado_anterior, ativacao=\"relu\"):\n",
        "    # número de exemplos\n",
        "    m = Ativado_anterior.shape[1]\n",
        "    \n",
        "    # seleção função de ativação\n",
        "    if ativacao is \"relu\":\n",
        "        func_ativacao_retro = relu_retro\n",
        "    elif ativacao is \"sigmoid\":\n",
        "        func_ativacao_retro = sigmoid_retro\n",
        "    else:\n",
        "        raise Exception('Nao implementada essa funcao')\n",
        "    \n",
        "    # derivada da função de ativação\n",
        "    dSaida_atual = func_ativacao_retro(dAtivado_atual, Saida_atual)\n",
        "    \n",
        "    # derivada da matriz de Pesos\n",
        "    dPesos_atual = np.dot(dSaida_atual, Ativado_anterior.T) / m\n",
        "    # derivada do vetor b\n",
        "    db_atual = np.sum(dSaida_atual, axis=1, keepdims=True) / m\n",
        "    # derivada da matriz A_anterior\n",
        "    dAtivado_anterior = np.dot(Pesos_atual.T, dSaida_atual)\n",
        "\n",
        "    return dAtivado_anterior, dPesos_atual, db_atual"
      ],
      "execution_count": 179,
      "outputs": []
    },
    {
      "cell_type": "markdown",
      "metadata": {
        "id": "yTlVu3c9lph0"
      },
      "source": [
        "### Treinamento"
      ]
    },
    {
      "cell_type": "code",
      "metadata": {
        "id": "58udJJtBlph1"
      },
      "source": [
        "def treino(X, Y, X_teste, Y_teste, arquitetura, epocas, taxa_aprendizagem):\n",
        "    # Inicia os parâmetros da rede neural\n",
        "    valores_parametros = inicia_camadas(arquitetura, 2)\n",
        "    # Listas que vão guardar o progresso da aprendizagem da rede \n",
        "    historia_custo = []\n",
        "    historia_custo_teste = []\n",
        "   \n",
        "    \n",
        "    # Atualiza a cada época\n",
        "    for i in range(epocas):\n",
        "        # Propaga a rede - Foward propagation\n",
        "        Y_predito, memoria = propaga_total(X, valores_parametros, arquitetura)\n",
        "        \n",
        "        Y_predito_teste, memoria2 = propaga_total(X_teste, valores_parametros, \n",
        "                                                  arquitetura)\n",
        "        \n",
        "        # calcula as métricas e salva nas listas de história\n",
        "        custo = valor_de_custo(Y_predito, Y)\n",
        "        historia_custo.append(custo)\n",
        "        custo_teste = valor_de_custo(Y_predito_teste, Y_teste)\n",
        "        historia_custo_teste.append(custo_teste)      \n",
        "        \n",
        "        # Retropropagação - Backpropagation\n",
        "        gradientes = retropropagacao_total(Y_predito, Y, memoria, \n",
        "                                           valores_parametros, arquitetura)\n",
        "        # Atualiza os pesos\n",
        "        valores_parametros = atualiza(valores_parametros, gradientes, \n",
        "                                      arquitetura, taxa_aprendizagem)\n",
        "        \n",
        "        if(i % 1000 == 0):\n",
        "            print(f'Iteracao {i} ====== Erro treino: {custo:.5f} ======== Erro teste: {custo_teste:.5f}')\n",
        "            print('_'*50)\n",
        "                        \n",
        "    return valores_parametros, historia_custo, historia_custo_teste"
      ],
      "execution_count": 190,
      "outputs": []
    },
    {
      "cell_type": "code",
      "metadata": {
        "id": "F1qSMLY7lph3"
      },
      "source": [
        "from sklearn.model_selection import train_test_split"
      ],
      "execution_count": 191,
      "outputs": []
    },
    {
      "cell_type": "code",
      "metadata": {
        "id": "PIJ7xZkmlph3"
      },
      "source": [
        "X_treino, X_teste, y_treino, y_teste = train_test_split( X, y, test_size=0.43, random_state=42)"
      ],
      "execution_count": 192,
      "outputs": []
    },
    {
      "cell_type": "code",
      "metadata": {
        "colab": {
          "base_uri": "https://localhost:8080/"
        },
        "id": "QgEau29Ilph3",
        "outputId": "4af0c5c5-b0c9-46af-f2bb-3907316003a6"
      },
      "source": [
        "# Treinamento\n",
        "valores_parametros, historia_custo, historia_custo_teste = treino(np.transpose(X_treino), np.transpose(y_treino.reshape((y_treino.shape[0], 1))), \n",
        "                                                                  np.transpose(X_teste), np.transpose(y_teste.reshape((y_teste.shape[0], 1))), \n",
        "                                                                  arquitetura, 20000, 0.1)"
      ],
      "execution_count": 203,
      "outputs": [
        {
          "output_type": "stream",
          "name": "stdout",
          "text": [
            "Iteracao 0 ====== Erro treino: 0.69141 ======== Erro teste: 0.69668\n",
            "__________________________________________________\n",
            "Iteracao 1000 ====== Erro treino: 0.69123 ======== Erro teste: 0.69526\n",
            "__________________________________________________\n",
            "Iteracao 2000 ====== Erro treino: 0.69123 ======== Erro teste: 0.69526\n",
            "__________________________________________________\n",
            "Iteracao 3000 ====== Erro treino: 0.69122 ======== Erro teste: 0.69526\n",
            "__________________________________________________\n",
            "Iteracao 4000 ====== Erro treino: 0.69122 ======== Erro teste: 0.69525\n",
            "__________________________________________________\n",
            "Iteracao 5000 ====== Erro treino: 0.69122 ======== Erro teste: 0.69525\n",
            "__________________________________________________\n",
            "Iteracao 6000 ====== Erro treino: 0.69121 ======== Erro teste: 0.69525\n",
            "__________________________________________________\n",
            "Iteracao 7000 ====== Erro treino: 0.69120 ======== Erro teste: 0.69524\n",
            "__________________________________________________\n",
            "Iteracao 8000 ====== Erro treino: 0.69119 ======== Erro teste: 0.69522\n",
            "__________________________________________________\n",
            "Iteracao 9000 ====== Erro treino: 0.69116 ======== Erro teste: 0.69520\n",
            "__________________________________________________\n",
            "Iteracao 10000 ====== Erro treino: 0.69108 ======== Erro teste: 0.69513\n",
            "__________________________________________________\n",
            "Iteracao 11000 ====== Erro treino: 0.69080 ======== Erro teste: 0.69485\n",
            "__________________________________________________\n",
            "Iteracao 12000 ====== Erro treino: 0.68749 ======== Erro teste: 0.69160\n",
            "__________________________________________________\n",
            "Iteracao 13000 ====== Erro treino: 0.64054 ======== Erro teste: 0.64318\n",
            "__________________________________________________\n",
            "Iteracao 14000 ====== Erro treino: 0.63841 ======== Erro teste: 0.64164\n",
            "__________________________________________________\n",
            "Iteracao 15000 ====== Erro treino: 0.63814 ======== Erro teste: 0.64154\n",
            "__________________________________________________\n",
            "Iteracao 16000 ====== Erro treino: 0.63800 ======== Erro teste: 0.64149\n",
            "__________________________________________________\n",
            "Iteracao 17000 ====== Erro treino: 0.63794 ======== Erro teste: 0.64145\n",
            "__________________________________________________\n",
            "Iteracao 18000 ====== Erro treino: 0.63791 ======== Erro teste: 0.64144\n",
            "__________________________________________________\n",
            "Iteracao 19000 ====== Erro treino: 0.63787 ======== Erro teste: 0.64143\n",
            "__________________________________________________\n"
          ]
        }
      ]
    },
    {
      "cell_type": "code",
      "metadata": {
        "colab": {
          "base_uri": "https://localhost:8080/",
          "height": 303
        },
        "id": "FQbYwx96lph4",
        "outputId": "2dd1b15d-6a13-44f3-d497-e621d5be96ea"
      },
      "source": [
        "plt.plot(historia_custo)\n",
        "plt.plot(historia_custo_teste, 'r')\n",
        "plt.legend(['Treinamento','Teste'])\n",
        "plt.ylabel('Custo')\n",
        "plt.xlabel('Épocas')\n",
        "plt.show()"
      ],
      "execution_count": 204,
      "outputs": [
        {
          "output_type": "display_data",
          "data": {
            "image/png": "[encoded data removed]",
            "text/plain": [
              "<Figure size 432x288 with 1 Axes>"
            ]
          },
          "metadata": {
            "needs_background": "light"
          }
        }
      ]
    },
    {
      "cell_type": "markdown",
      "metadata": {
        "id": "CoeFSenSlph5"
      },
      "source": [
        "### Fazendo Previsões"
      ]
    },
    {
      "cell_type": "code",
      "metadata": {
        "id": "54Pn7qiBlph5"
      },
      "source": [
        "# Previsão\n",
        "Y_pred, _ = propaga_total(np.transpose(X_teste), valores_parametros, arquitetura)"
      ],
      "execution_count": 205,
      "outputs": []
    },
    {
      "cell_type": "code",
      "metadata": {
        "colab": {
          "base_uri": "https://localhost:8080/",
          "height": 299
        },
        "id": "k4gIi1xUlph6",
        "outputId": "eb4be87e-22d7-4595-80d1-aff831093adc"
      },
      "source": [
        "plt.plot(np.transpose(X_teste)[1],ymax*y_teste,'.')\n",
        "plt.plot(np.transpose(X_teste)[1],ymax*Y_pred.reshape([-1,1]),'.r')\n",
        "plt.legend(['Reais','Preditos'])\n",
        "plt.ylabel('bicicletas_alugadas')\n",
        "plt.xlabel('temperatura')\n",
        "plt.show()"
      ],
      "execution_count": 206,
      "outputs": [
        {
          "output_type": "display_data",
          "data": {
            "image/png": "[encoded data removed]",
            "text/plain": [
              "<Figure size 432x288 with 1 Axes>"
            ]
          },
          "metadata": {
            "needs_background": "light"
          }
        }
      ]
    },
    {
      "cell_type": "code",
      "metadata": {
        "colab": {
          "base_uri": "https://localhost:8080/",
          "height": 293
        },
        "id": "agee0PTQlph6",
        "outputId": "0e16b694-080d-4013-e0c7-314c55681e0c"
      },
      "source": [
        "plt.plot(3*np.transpose(X_teste)[0],ymax*y_teste,'.')\n",
        "plt.plot(3*np.transpose(X_teste)[0],ymax*Y_pred.reshape([-1,1]),'.r')\n",
        "plt.legend(['Reais','Preditos'])\n",
        "plt.ylabel('bicicletas_alugadas')\n",
        "plt.xlabel('clima')\n",
        "plt.rcParams.update({'font.size': 22})\n",
        "indice=[1,2,3]\n",
        "plt.xticks(indice, fontsize=14)\n",
        "plt.show()"
      ],
      "execution_count": 207,
      "outputs": [
        {
          "output_type": "display_data",
          "data": {
            "image/png": "[encoded data removed]",
            "text/plain": [
              "<Figure size 432x288 with 1 Axes>"
            ]
          },
          "metadata": {
            "needs_background": "light"
          }
        }
      ]
    }
  ]
}